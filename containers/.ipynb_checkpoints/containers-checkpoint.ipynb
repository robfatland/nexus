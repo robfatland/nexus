{
 "cells": [
  {
   "cell_type": "markdown",
   "id": "96d44acc-5c3d-485b-b900-4e71e252aa64",
   "metadata": {},
   "source": [
    "### Notes from the MSE544 labs plus YouTube videos\n",
    "\n",
    "* Docker is a software development platform and a virtualization technology; key concept is hermetic operation, no shock waves into the system at large\n",
    "    * except the shock waves we want of preserving compute module results\n",
    "* Docker applications can therefore run anywhere; they are system agnostic\n",
    "    * Docker communicates \"natively\" (directly) with the system kernel\n",
    "* Resource optimization: Multiple Docker containers run on a single system (VM say)...\n",
    "    * ...from a common source image? Share files to reduce footprint!\n",
    "* Resource provisioning\n",
    "    * Docker Container assigned so much RAM, CPU cores etcetera by a management service\n",
    "    * For example on AWS use Elastic Container Service to construct a Task...\n",
    "        * ...Task: Composed of many Container runs\n",
    "* Bottom line of Containers is **Run Many, Run Anywhere**: Scale and consistency\n",
    "    * VMs can be bulky and slow\n",
    "        * Containers only virtualize the OS, not the hardware\n",
    "* Three fundamental elements: Docker file, Docker image, Docker container\n",
    "    - Docker File is like DNA: Code: How to build an image \n",
    "        - Start with `FROM base_image`\n",
    "        - `RUN` commands to customize \n",
    "        - `ENV` commands to set environment variables used inside the running Container\n",
    "        - `CMD` or `ENTRYPOINT` to stipulate what happens at runtime\n",
    "    - Docker Image: an immutable file\n",
    "        - A snapshot of software + dependencies all the way down to the OS level\n",
    "        - Configured content can be spun up as a container\n",
    "    - Docker Container is the executable compute module\n",
    "    \n",
    "\n",
    "### The Docker developer mindset\n",
    "\n",
    "\n",
    "- a `dockerfile` resides in a host folder\n",
    "- a Docker `image` lives *somewhere* (not our concern, managed behind the scenes)\n",
    "- the `docker` *command* is a **command line interface**\n",
    "    - interfaces with the **docker daemon/engine**  that manages everything docker\n",
    "- On a PC: Enabled by Docker Desktop (app) + WSL2"
   ]
  },
  {
   "cell_type": "code",
   "execution_count": 1,
   "id": "78388f11-9bf6-449d-9c38-c2ee39585c2a",
   "metadata": {},
   "outputs": [
    {
     "name": "stdout",
     "output_type": "stream",
     "text": [
      "FROM python\n",
      "\n",
      "WORKDIR /app\n",
      "\n",
      "ADD . /out\n",
      "\n",
      "COPY . /app\n",
      "\n",
      "RUN apt-get update\n",
      "\n",
      "RUN pip install --no-cache-dir -r requirements.txt\n",
      "\n",
      "EXPOSE 80\n",
      "\n",
      "CMD [\"python\", \"calcul8.py\"]\n",
      "\n",
      "\n"
     ]
    }
   ],
   "source": [
    "# This code creates a Dockerfile in the local directory\n",
    "\n",
    "def AddFROM(s, source):\n",
    "    s += 'FROM ' + source + '\\n\\n'\n",
    "    return s\n",
    "\n",
    "def AddWORKDIR(s, somedir):\n",
    "    s += 'WORKDIR ' + somedir + '\\n\\n'\n",
    "    return s\n",
    "\n",
    "def AddADD(s, somedir):\n",
    "    s += 'ADD . ' + somedir + '\\n\\n'\n",
    "    return s\n",
    "\n",
    "def AddCOPY(s, fromdir, todir):\n",
    "    s += 'COPY ' + fromdir + ' ' + todir + '\\n\\n'\n",
    "    return s\n",
    "\n",
    "def AddRUN(s, pkgs):\n",
    "    for r in pkgs:\n",
    "        s += 'RUN ' + r[0] + ' ' + r[1] + '\\n'\n",
    "    s += '\\n'\n",
    "    return s\n",
    "\n",
    "def AddEXPOSE(s, ports):\n",
    "    for p in ports:\n",
    "        s += 'EXPOSE ' + p + '\\n'\n",
    "    s += '\\n'\n",
    "    return s\n",
    "\n",
    "def AddENV(s, envs):\n",
    "    for e in envs:\n",
    "        s += 'ENV ' + e[0] + '=' + e[1] + '\\n'\n",
    "    s += '\\n'\n",
    "    return s\n",
    "\n",
    "def AddCMD(s, cmd):\n",
    "    s += 'CMD [\"' + cmd[0] + '\", \"' + cmd[1] + '\"]'\n",
    "    s += '\\n\\n'\n",
    "    return s\n",
    "\n",
    "d = ''\n",
    "d = AddFROM(d, 'python')          # \":3.9-slim\"\n",
    "d = AddWORKDIR(d, '/app')\n",
    "d = AddADD(d, '/out')\n",
    "d = AddCOPY(d, \".\", \"/app\")               # this (including calcul8.py) to work dir\n",
    "d = AddRUN(d, [['apt-get', 'update']])\n",
    "d = AddRUN(d, [['pip install', '--no-cache-dir -r requirements.txt']])\n",
    "d = AddEXPOSE(d, ['80'])\n",
    "# d = AddENV(d, [['START_INDEX', '0']])\n",
    "d = AddCMD(d, ['python', 'calcul8.py'])\n",
    "\n",
    "print(d)\n",
    "\n",
    "def WriteDockerFile(s, f):\n",
    "    with open(f, \"w\") as file: file.write(s)\n",
    "\n",
    "# make sure this target directory exists!\n",
    "WriteDockerFile(d, \"/home/azureuser/nexus/containers/dockerfile\")"
   ]
  },
  {
   "cell_type": "markdown",
   "id": "414043f4-1964-4716-b9ec-802ab42a4b6d",
   "metadata": {},
   "source": [
    "### Cautionary remark\n",
    "\n",
    "\n",
    "On a PC: For `docker` commands to work I first start Docker Desktop on my PC; \n",
    "which enables the `docker engine` so docker commands work (this is in WSL2).\n",
    "Systems with multiple versions of Ubuntu installed can run into disambiguation\n",
    "challenges...\n",
    "\n",
    "\n",
    "### Developer remark\n",
    "\n",
    "\n",
    "As I try various experiments I will eventually leave some Containers in a `stopped` state.\n",
    "This is distinct from `exited`; for example it may be possible to restart the stopped container. \n",
    "\n",
    "\n",
    "I may also create a sequence of (abandoned) Images that would be good to clean up. Deleting containers \n",
    "and images: Respectively `docker rm <container-id>` and `docker rmi <image-id>`. How do we get these IDs?\n",
    "The images are easy: `docker images`. The containers: `docker ps --all`.\n",
    "\n",
    "\n",
    "A stopped container can be removed in order to permit deleting the corresponding image with no grumbling."
   ]
  },
  {
   "cell_type": "code",
   "execution_count": 2,
   "id": "e3598ae1-a6df-4894-8b4a-4b2b53bae543",
   "metadata": {},
   "outputs": [
    {
     "name": "stdout",
     "output_type": "stream",
     "text": [
      "sha256:7b6390f114e00db057e219fd50abd74e228f4ec508a097c64861d5903b4ce019\n"
     ]
    }
   ],
   "source": [
    "!docker build -t calcul8 . --progress=quiet"
   ]
  },
  {
   "cell_type": "code",
   "execution_count": 6,
   "id": "cba75141-6cfb-4964-ac14-f05139b6313d",
   "metadata": {},
   "outputs": [
    {
     "name": "stdout",
     "output_type": "stream",
     "text": [
      "REPOSITORY                TAG       IMAGE ID       CREATED              SIZE\n",
      "calcul8                   latest    7b6390f114e0   About a minute ago   1.07GB\n",
      "robfatland/calcul8        latest    9263004e8ff5   About an hour ago    1.07GB\n",
      "robfatland/calcul8        <none>    4339b6a1e552   14 hours ago         1.07GB\n",
      "train                     latest    d26016239591   2 days ago           72.8MB\n",
      "ubuntu                    latest    b1d9df8ab815   4 months ago         78.1MB\n",
      "hello-world               latest    d2c94e258dcb   23 months ago        13.3kB\n",
      "naclomi/textbook-writer   latest    a67cdd1dd3da   2 years ago          983MB\n"
     ]
    }
   ],
   "source": [
    "# use docker image list or equivalently:\n",
    "!docker images"
   ]
  },
  {
   "cell_type": "code",
   "execution_count": 7,
   "id": "a3cd1b97-0050-46fe-84f9-5d8d85edcf1c",
   "metadata": {},
   "outputs": [
    {
     "name": "stdout",
     "output_type": "stream",
     "text": [
      "Untagged: robfatland/calcul8@sha256:a08aadab4a9e72137874eadd4587d778c34ed794390e10eccaa2d629753911eb\n",
      "Deleted: sha256:4339b6a1e5524494a3ab51d4566dc984ac0de8e7e78b7ea1947415bebb174f36\n"
     ]
    }
   ],
   "source": [
    "!docker rmi 4339b6a1e552"
   ]
  },
  {
   "cell_type": "code",
   "execution_count": 3,
   "id": "c277a83f-1783-42f6-a7d7-2ef2e0cd9155",
   "metadata": {},
   "outputs": [
    {
     "name": "stdout",
     "output_type": "stream",
     "text": [
      "CONTAINER ID   IMAGE          COMMAND               CREATED             STATUS                         PORTS     NAMES\n",
      "ecc397f15cfa   9263004e8ff5   \"python calcul8.py\"   About an hour ago   Exited (1) About an hour ago             vigilant_lewin\n"
     ]
    }
   ],
   "source": [
    "!docker ps --all"
   ]
  },
  {
   "cell_type": "code",
   "execution_count": 4,
   "id": "f4d77327-6c13-457c-982b-8d983e6857a5",
   "metadata": {},
   "outputs": [
    {
     "name": "stdout",
     "output_type": "stream",
     "text": [
      "CONTAINER ID   IMAGE     COMMAND   CREATED   STATUS    PORTS     NAMES\n"
     ]
    }
   ],
   "source": [
    "# are any docker images running on this machine at the moment?\n",
    "!docker ps"
   ]
  },
  {
   "cell_type": "code",
   "execution_count": 15,
   "id": "c33c6f21-d62d-4194-806c-d66d1d918926",
   "metadata": {},
   "outputs": [
    {
     "name": "stdout",
     "output_type": "stream",
     "text": [
      "3\n",
      "307\n",
      "311\n",
      "313\n",
      "317\n",
      "323\n",
      "331\n",
      "337\n",
      "347\n",
      "349\n",
      "353\n",
      "359\n",
      "361\n",
      "367\n",
      "373\n",
      "379\n",
      "383\n",
      "389\n",
      "397\n",
      "\n"
     ]
    }
   ],
   "source": [
    "!docker run -e START_INDEX=3 --mount type=bind,src=/home/azureuser/nexus/containers/out,dst=/out calcul8"
   ]
  },
  {
   "cell_type": "markdown",
   "id": "5794fc7b-af5b-4b35-a1b6-8c3767a202df",
   "metadata": {},
   "source": [
    "## Anatomy of this `docker run` command\n",
    "\n",
    "\n",
    "- `!docker` executes the bash command from Python\n",
    "- `run` runs the target image `calcul8` built above\n",
    "- `-e START_INDEX=3` sets an environment variable\n",
    "- `--mount type=bind,src=/home/azureuser/nexus/containers/out,dst=/out` mounts the os volume in the container\n",
    "    - This allows the container to write results and exit (evaporate): The results persist\n",
    "\n",
    "\n",
    "\n",
    "## Ready to push this to dockerhub\n",
    "\n",
    "\n",
    "First we need a tag command; simplest form: \n",
    "\n",
    "\n",
    "```\n",
    "docker tag calcul8 robfatland/calcul8\n",
    "```\n",
    "\n",
    "\n",
    "Second we push: \n",
    "\n",
    "\n",
    "```\n",
    "docker push robfatland/calcul8\n",
    "```"
   ]
  },
  {
   "cell_type": "code",
   "execution_count": 14,
   "id": "2c370eef-ecb7-427b-900e-d50e2d6f1357",
   "metadata": {},
   "outputs": [],
   "source": [
    "# Alternative volume mount: !docker run -e START_INDEX=13 -v /home/azureuser/nexus/containers/out:/out calcul8"
   ]
  },
  {
   "cell_type": "markdown",
   "id": "464f6faa-9afd-4227-9b8a-38af0156abc9",
   "metadata": {},
   "source": [
    "### Observe\n",
    "\n",
    "\n",
    "The output is `sha256:7a3df4ee0998d0a8ccdd53b56e9063c455b21283c177e38366fa985c379ca96c`... meaning what?\n",
    "Notice the first 12 characters after the `:` corresponds to the `IMAGE ID`.\n",
    "\n",
    "\n",
    "### Key questions\n",
    "\n",
    "\n",
    "- Now a Docker app -- properly an *Image* -- exists. The run command is `docker run train` but how does it find that image?\n",
    "- If I run `calcul8` or `train` or `hello-world` from this notebook or from `bash` I get the expected message text output.\n",
    "    - What if I run `ubuntu`?\n",
    "    - What if I run `ubuntu` interactively with the `-it` flag?\n",
    "\n"
   ]
  },
  {
   "cell_type": "code",
   "execution_count": null,
   "id": "86819a3d-2bc8-4dc3-b626-54c90da8e404",
   "metadata": {},
   "outputs": [],
   "source": [
    "# use --rm to clean up when done; and -it to run interactively\n",
    "!docker run --rm -it train"
   ]
  },
  {
   "cell_type": "code",
   "execution_count": null,
   "id": "3b6a2b53-8607-4c94-8216-26ddcc96ce28",
   "metadata": {},
   "outputs": [],
   "source": [
    "!docker run --rm -it hello-world"
   ]
  },
  {
   "cell_type": "code",
   "execution_count": 10,
   "id": "52beeec1-a5f0-45d2-ba51-d5bd5e2897ea",
   "metadata": {},
   "outputs": [
    {
     "name": "stdout",
     "output_type": "stream",
     "text": [
      "0\n"
     ]
    }
   ],
   "source": [
    "!docker run calcul8"
   ]
  },
  {
   "cell_type": "code",
   "execution_count": null,
   "id": "0fbb0294-2f6d-441b-8360-3038b7245c6b",
   "metadata": {},
   "outputs": [],
   "source": [
    "# This command by virtue of -it keeps running. It can be halted from the Docker App\n",
    "# !docker run --rm -it ubuntu"
   ]
  },
  {
   "cell_type": "markdown",
   "id": "cb1c4737-9a0b-4c3e-91df-d8119fc8bed0",
   "metadata": {},
   "source": [
    "### Pivot to from running a container to Docker hub\n",
    "\n",
    "\n",
    "The bash command `docker run ubuntu` is supposed to place us in an Ubuntu `bash` shell but it just starts/halts. \n",
    "\n",
    "\n",
    "`docker pull` will get an existing image from DockerHub, here without then with a tag. No tag: Latest.\n",
    "\n",
    "\n",
    "```\n",
    "docker pull ubuntu\n",
    "docker pull ubuntu:20.04\n",
    "docker pull naclomi/textbook-writer\n",
    "```\n",
    "\n",
    "The `textbook-writer` takes a couple minutes to pull. Once that completes we have..."
   ]
  },
  {
   "cell_type": "code",
   "execution_count": null,
   "id": "123c414f-5fdf-4099-a810-d01a4884d83e",
   "metadata": {},
   "outputs": [],
   "source": [
    "!docker images"
   ]
  },
  {
   "cell_type": "code",
   "execution_count": null,
   "id": "b94cab40-e141-4b51-afda-b24c4ba654e1",
   "metadata": {},
   "outputs": [],
   "source": [
    "!docker run --rm -it naclomi/textbook-writer"
   ]
  },
  {
   "cell_type": "markdown",
   "id": "cc8fa1a3-7a36-4fa9-959b-1f5f9473f80d",
   "metadata": {},
   "source": [
    "### ok great now i should do one too\n",
    "\n",
    "\n",
    "This was so encouraging I thought I'd check in at [DockerHub](https://hub.docker.com) and create a repo and push an image.\n",
    "On my development laptop these are the key docker commands: \n",
    "\n",
    "```\n",
    "docker tag local-image:tagname new-repo:tagname\n",
    "docker push new-repo:tagname\n",
    "```\n",
    "\n",
    "\n",
    "My Docker image will be called `calcul8`. To begin as simply as possible my code will take two environment variables\n",
    "a and b and calculate all the primes on [a, b)."
   ]
  },
  {
   "cell_type": "code",
   "execution_count": null,
   "id": "7148883c-f7d7-49dc-822f-b1fa39d2b0a8",
   "metadata": {},
   "outputs": [],
   "source": []
  },
  {
   "cell_type": "code",
   "execution_count": null,
   "id": "0d1cc951-31a3-409c-b424-db89b99cc184",
   "metadata": {},
   "outputs": [],
   "source": []
  },
  {
   "cell_type": "code",
   "execution_count": null,
   "id": "86763339-8113-4ae1-936b-00b9ddb3ee58",
   "metadata": {},
   "outputs": [],
   "source": []
  }
 ],
 "metadata": {
  "kernelspec": {
   "display_name": "Python 3 (ipykernel)",
   "language": "python",
   "name": "python3"
  },
  "language_info": {
   "codemirror_mode": {
    "name": "ipython",
    "version": 3
   },
   "file_extension": ".py",
   "mimetype": "text/x-python",
   "name": "python",
   "nbconvert_exporter": "python",
   "pygments_lexer": "ipython3",
   "version": "3.12.8"
  }
 },
 "nbformat": 4,
 "nbformat_minor": 5
}
