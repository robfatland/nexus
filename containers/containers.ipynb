{
 "cells": [
  {
   "cell_type": "markdown",
   "id": "96d44acc-5c3d-485b-b900-4e71e252aa64",
   "metadata": {},
   "source": [
    "### Notes from watching dozens of YouTube videos\n",
    "\n",
    "* Docker is a software development platform and a virtualization technology; key concept is hermetic operation, no shock waves into the system at large\n",
    "    * apps can run universally / system agnostic\n",
    "    * Docker communicates \"natively\" (directly) with the system kernel\n",
    "    * Multiple Docker containers running on a single system from a common source image will share files to reduce total footprint\n",
    "* Replicate an environment on any machine: Covers scale and consistency: Run many, anywhere.\n",
    "* VMs can be bulky and slow. Containers only virtualize the OS, not the hardware\n",
    "* Three fundamental elements\n",
    "    - Docker File is like DNA: Code: How to build an image \n",
    "        - Start with `FROM` to \"pull down\" a base image\n",
    "        - Next a `RUN` command to `apt-get install sl` (which is a little text-based train)\n",
    "        - Next a `ENV` command to set `PORT=8080` environment variables used inside the running Container\n",
    "        - Finally a `CMD` default command with `[\"echo\", \"Hello Docker\"]` some command-y sort of run-time task\n",
    "    - Docker Image is an immutable file: A snapshot of software + dependencies all the way down to the OS level: configuration content: Spin up container\n",
    "    - Docker Container is a running-then-halting program\n",
    "    \n",
    "    \n",
    "As we work in the Docker headspace let's be aware that...\n",
    "- a `Dockerfile` lives in a host folder with an appropriate name\n",
    "- a Docker *image* lives for all we know on the planet Neptune; it is not *visible* as a normal file is... so this is being managed behind the scenes\n",
    "- the `docker` command is the **command line interface** that interfaces with the **docker daemon** that in turn manages the local docker landscape\n",
    "- all of this is put into place when we install Docker Desktop (an app)"
   ]
  },
  {
   "cell_type": "code",
   "execution_count": 9,
   "id": "78388f11-9bf6-449d-9c38-c2ee39585c2a",
   "metadata": {},
   "outputs": [
    {
     "name": "stdout",
     "output_type": "stream",
     "text": [
      "FROM ubuntu:20.04\n",
      "\n",
      "USER root\n",
      "\n",
      "ENV PORT=8080\n",
      "\n",
      "CMD [\"echo\", \"Hello Docker\"]\n",
      "\n",
      "\n"
     ]
    }
   ],
   "source": [
    "# Let's build a Dockerfile using Python\n",
    "\n",
    "def WriteDockerFile(s, f):\n",
    "    with open(f, \"w\") as file: file.write(s)\n",
    "\n",
    "\n",
    "def AddFROM(s, os):\n",
    "    s += 'FROM ' + os + '\\n\\n'\n",
    "    return s\n",
    "\n",
    "    \n",
    "def AddUSER(s, who):\n",
    "    s += 'USER ' + who + '\\n\\n'\n",
    "    return s\n",
    "\n",
    "def AddRUN(s, pkgs):\n",
    "    for r in pkgs:\n",
    "        s += 'RUN ' + r[0] + ' ' + r[1] + '\\n'\n",
    "    s += '\\n'\n",
    "    return s\n",
    "\n",
    "def AddENV(s, envs):\n",
    "    for e in envs:\n",
    "        s += 'ENV ' + e[0] + '=' + e[1] + '\\n'\n",
    "    s += '\\n'\n",
    "    return s\n",
    "\n",
    "def AddCMD(s, cmd):\n",
    "    s += 'CMD [\"' + cmd[0] + '\", \"' + cmd[1] + '\"]'\n",
    "    s += '\\n\\n'\n",
    "    return s\n",
    "\n",
    "\n",
    "d = ''\n",
    "d = AddFROM(d, 'ubuntu:20.04')\n",
    "d = AddUSER(d, 'root')\n",
    "# d = AddRUN(d, [['apt-get install -V', 'sl']])         # '-y curl' is a common install\n",
    "d = AddENV(d, [['PORT', '8080']])\n",
    "d = AddCMD(d, ['echo', 'Hello Docker'])\n",
    "\n",
    "print(d)\n",
    "\n",
    "# make sure this target directory exists!\n",
    "WriteDockerFile(d, \"/home/kilroy/docker/Dockerfile\")"
   ]
  },
  {
   "cell_type": "markdown",
   "id": "414043f4-1964-4716-b9ec-802ab42a4b6d",
   "metadata": {},
   "source": [
    "### Cautionary remark\n",
    "\n",
    "\n",
    "For the next cell to run: I must start Docker Desktop on my PC; which makes the `docker` command available in WSL2."
   ]
  },
  {
   "cell_type": "code",
   "execution_count": 13,
   "id": "e3598ae1-a6df-4894-8b4a-4b2b53bae543",
   "metadata": {},
   "outputs": [
    {
     "name": "stdout",
     "output_type": "stream",
     "text": [
      "\u001b[1A\u001b[1B\u001b[0G\u001b[?25l[+] Building 0.0s (0/1)                                                         \n",
      "\u001b[?25h\u001b[1A\u001b[0G\u001b[?25l[+] Building 0.1s (2/3)                                                         \n",
      "\u001b[34m => [internal] load build definition from Dockerfile                       0.0s\n",
      "\u001b[0m\u001b[34m => => transferring dockerfile: 118B                                       0.0s\n",
      "\u001b[0m\u001b[34m => [internal] load .dockerignore                                          0.0s\n",
      "\u001b[0m\u001b[34m => => transferring context: 2B                                            0.0s\n",
      "\u001b[0m => [internal] load metadata for docker.io/library/ubuntu:20.04            0.0s\n",
      "\u001b[?25h\u001b[1A\u001b[1A\u001b[1A\u001b[1A\u001b[1A\u001b[1A\u001b[0G\u001b[?25l[+] Building 0.3s (2/3)                                                         \n",
      "\u001b[34m => [internal] load build definition from Dockerfile                       0.0s\n",
      "\u001b[0m\u001b[34m => => transferring dockerfile: 118B                                       0.0s\n",
      "\u001b[0m\u001b[34m => [internal] load .dockerignore                                          0.0s\n",
      "\u001b[0m\u001b[34m => => transferring context: 2B                                            0.0s\n",
      "\u001b[0m => [internal] load metadata for docker.io/library/ubuntu:20.04            0.2s\n",
      "\u001b[?25h\u001b[1A\u001b[1A\u001b[1A\u001b[1A\u001b[1A\u001b[1A\u001b[0G\u001b[?25l[+] Building 0.4s (2/3)                                                         \n",
      "\u001b[34m => [internal] load build definition from Dockerfile                       0.0s\n",
      "\u001b[0m\u001b[34m => => transferring dockerfile: 118B                                       0.0s\n",
      "\u001b[0m\u001b[34m => [internal] load .dockerignore                                          0.0s\n",
      "\u001b[0m\u001b[34m => => transferring context: 2B                                            0.0s\n",
      "\u001b[0m => [internal] load metadata for docker.io/library/ubuntu:20.04            0.3s\n",
      "\u001b[?25h\u001b[1A\u001b[1A\u001b[1A\u001b[1A\u001b[1A\u001b[1A\u001b[0G\u001b[?25l[+] Building 0.6s (2/3)                                                         \n",
      "\u001b[34m => [internal] load build definition from Dockerfile                       0.0s\n",
      "\u001b[0m\u001b[34m => => transferring dockerfile: 118B                                       0.0s\n",
      "\u001b[0m\u001b[34m => [internal] load .dockerignore                                          0.0s\n",
      "\u001b[0m\u001b[34m => => transferring context: 2B                                            0.0s\n",
      "\u001b[0m => [internal] load metadata for docker.io/library/ubuntu:20.04            0.5s\n",
      "\u001b[?25h\u001b[1A\u001b[1A\u001b[1A\u001b[1A\u001b[1A\u001b[1A\u001b[0G\u001b[?25l[+] Building 0.7s (2/3)                                                         \n",
      "\u001b[34m => [internal] load build definition from Dockerfile                       0.0s\n",
      "\u001b[0m\u001b[34m => => transferring dockerfile: 118B                                       0.0s\n",
      "\u001b[0m\u001b[34m => [internal] load .dockerignore                                          0.0s\n",
      "\u001b[0m\u001b[34m => => transferring context: 2B                                            0.0s\n",
      "\u001b[0m => [internal] load metadata for docker.io/library/ubuntu:20.04            0.6s\n",
      "\u001b[?25h\u001b[1A\u001b[1A\u001b[1A\u001b[1A\u001b[1A\u001b[1A\u001b[0G\u001b[?25l[+] Building 0.9s (2/3)                                                         \n",
      "\u001b[34m => [internal] load build definition from Dockerfile                       0.0s\n",
      "\u001b[0m\u001b[34m => => transferring dockerfile: 118B                                       0.0s\n",
      "\u001b[0m\u001b[34m => [internal] load .dockerignore                                          0.0s\n",
      "\u001b[0m\u001b[34m => => transferring context: 2B                                            0.0s\n",
      "\u001b[0m => [internal] load metadata for docker.io/library/ubuntu:20.04            0.8s\n",
      "\u001b[?25h\u001b[1A\u001b[1A\u001b[1A\u001b[1A\u001b[1A\u001b[1A\u001b[0G\u001b[?25l[+] Building 1.0s (2/3)                                                         \n",
      "\u001b[34m => [internal] load build definition from Dockerfile                       0.0s\n",
      "\u001b[0m\u001b[34m => => transferring dockerfile: 118B                                       0.0s\n",
      "\u001b[0m\u001b[34m => [internal] load .dockerignore                                          0.0s\n",
      "\u001b[0m\u001b[34m => => transferring context: 2B                                            0.0s\n",
      "\u001b[0m => [internal] load metadata for docker.io/library/ubuntu:20.04            0.9s\n",
      "\u001b[?25h\u001b[1A\u001b[1A\u001b[1A\u001b[1A\u001b[1A\u001b[1A\u001b[0G\u001b[?25l[+] Building 1.2s (2/3)                                                         \n",
      "\u001b[34m => [internal] load build definition from Dockerfile                       0.0s\n",
      "\u001b[0m\u001b[34m => => transferring dockerfile: 118B                                       0.0s\n",
      "\u001b[0m\u001b[34m => [internal] load .dockerignore                                          0.0s\n",
      "\u001b[0m\u001b[34m => => transferring context: 2B                                            0.0s\n",
      "\u001b[0m => [internal] load metadata for docker.io/library/ubuntu:20.04            1.1s\n",
      "\u001b[?25h\u001b[1A\u001b[1A\u001b[1A\u001b[1A\u001b[1A\u001b[1A\u001b[0G\u001b[?25l[+] Building 1.3s (2/3)                                                         \n",
      "\u001b[34m => [internal] load build definition from Dockerfile                       0.0s\n",
      "\u001b[0m\u001b[34m => => transferring dockerfile: 118B                                       0.0s\n",
      "\u001b[0m\u001b[34m => [internal] load .dockerignore                                          0.0s\n",
      "\u001b[0m\u001b[34m => => transferring context: 2B                                            0.0s\n",
      "\u001b[0m => [internal] load metadata for docker.io/library/ubuntu:20.04            1.2s\n",
      "\u001b[?25h\u001b[1A\u001b[1A\u001b[1A\u001b[1A\u001b[1A\u001b[1A\u001b[0G\u001b[?25l[+] Building 1.5s (2/3)                                                         \n",
      "\u001b[34m => [internal] load build definition from Dockerfile                       0.0s\n",
      "\u001b[0m\u001b[34m => => transferring dockerfile: 118B                                       0.0s\n",
      "\u001b[0m\u001b[34m => [internal] load .dockerignore                                          0.0s\n",
      "\u001b[0m\u001b[34m => => transferring context: 2B                                            0.0s\n",
      "\u001b[0m => [internal] load metadata for docker.io/library/ubuntu:20.04            1.4s\n",
      "\u001b[?25h\u001b[1A\u001b[1A\u001b[1A\u001b[1A\u001b[1A\u001b[1A\u001b[0G\u001b[?25l[+] Building 1.6s (2/3)                                                         \n",
      "\u001b[34m => [internal] load build definition from Dockerfile                       0.0s\n",
      "\u001b[0m\u001b[34m => => transferring dockerfile: 118B                                       0.0s\n",
      "\u001b[0m\u001b[34m => [internal] load .dockerignore                                          0.0s\n",
      "\u001b[0m\u001b[34m => => transferring context: 2B                                            0.0s\n",
      "\u001b[0m => [internal] load metadata for docker.io/library/ubuntu:20.04            1.5s\n",
      "\u001b[?25h\u001b[1A\u001b[1A\u001b[1A\u001b[1A\u001b[1A\u001b[1A\u001b[0G\u001b[?25l[+] Building 1.8s (2/3)                                                         \n",
      "\u001b[34m => [internal] load build definition from Dockerfile                       0.0s\n",
      "\u001b[0m\u001b[34m => => transferring dockerfile: 118B                                       0.0s\n",
      "\u001b[0m\u001b[34m => [internal] load .dockerignore                                          0.0s\n",
      "\u001b[0m\u001b[34m => => transferring context: 2B                                            0.0s\n",
      "\u001b[0m => [internal] load metadata for docker.io/library/ubuntu:20.04            1.7s\n",
      "\u001b[?25h\u001b[1A\u001b[1A\u001b[1A\u001b[1A\u001b[1A\u001b[1A\u001b[0G\u001b[?25l[+] Building 1.9s (2/3)                                                         \n",
      "\u001b[34m => [internal] load build definition from Dockerfile                       0.0s\n",
      "\u001b[0m\u001b[34m => => transferring dockerfile: 118B                                       0.0s\n",
      "\u001b[0m\u001b[34m => [internal] load .dockerignore                                          0.0s\n",
      "\u001b[0m\u001b[34m => => transferring context: 2B                                            0.0s\n",
      "\u001b[0m => [internal] load metadata for docker.io/library/ubuntu:20.04            1.8s\n",
      "\u001b[?25h\u001b[1A\u001b[1A\u001b[1A\u001b[1A\u001b[1A\u001b[1A\u001b[0G\u001b[?25l[+] Building 2.1s (2/3)                                                         \n",
      "\u001b[34m => [internal] load build definition from Dockerfile                       0.0s\n",
      "\u001b[0m\u001b[34m => => transferring dockerfile: 118B                                       0.0s\n",
      "\u001b[0m\u001b[34m => [internal] load .dockerignore                                          0.0s\n",
      "\u001b[0m\u001b[34m => => transferring context: 2B                                            0.0s\n",
      "\u001b[0m => [internal] load metadata for docker.io/library/ubuntu:20.04            2.0s\n",
      "\u001b[?25h\u001b[1A\u001b[1A\u001b[1A\u001b[1A\u001b[1A\u001b[1A\u001b[0G\u001b[?25l[+] Building 2.2s (2/3)                                                         \n",
      "\u001b[34m => [internal] load build definition from Dockerfile                       0.0s\n",
      "\u001b[0m\u001b[34m => => transferring dockerfile: 118B                                       0.0s\n",
      "\u001b[0m\u001b[34m => [internal] load .dockerignore                                          0.0s\n",
      "\u001b[0m\u001b[34m => => transferring context: 2B                                            0.0s\n",
      "\u001b[0m => [internal] load metadata for docker.io/library/ubuntu:20.04            2.1s\n",
      "\u001b[?25h\u001b[1A\u001b[1A\u001b[1A\u001b[1A\u001b[1A\u001b[1A\u001b[0G\u001b[?25l[+] Building 2.4s (2/3)                                                         \n",
      "\u001b[34m => [internal] load build definition from Dockerfile                       0.0s\n",
      "\u001b[0m\u001b[34m => => transferring dockerfile: 118B                                       0.0s\n",
      "\u001b[0m\u001b[34m => [internal] load .dockerignore                                          0.0s\n",
      "\u001b[0m\u001b[34m => => transferring context: 2B                                            0.0s\n",
      "\u001b[0m => [internal] load metadata for docker.io/library/ubuntu:20.04            2.3s\n",
      "\u001b[?25h\u001b[1A\u001b[1A\u001b[1A\u001b[1A\u001b[1A\u001b[1A\u001b[0G\u001b[?25l[+] Building 2.5s (3/3)                                                         \n",
      "\u001b[34m => [internal] load build definition from Dockerfile                       0.0s\n",
      "\u001b[0m\u001b[34m => => transferring dockerfile: 118B                                       0.0s\n",
      "\u001b[0m\u001b[34m => [internal] load .dockerignore                                          0.0s\n",
      "\u001b[0m\u001b[34m => => transferring context: 2B                                            0.0s\n",
      "\u001b[0m\u001b[34m => [internal] load metadata for docker.io/library/ubuntu:20.04            2.4s\n",
      "\u001b[0m\u001b[?25h\u001b[1A\u001b[1A\u001b[1A\u001b[1A\u001b[1A\u001b[1A\u001b[0G\u001b[?25l[+] Building 2.5s (5/5) FINISHED                                                \n",
      "\u001b[34m => [internal] load build definition from Dockerfile                       0.0s\n",
      "\u001b[0m\u001b[34m => => transferring dockerfile: 118B                                       0.0s\n",
      "\u001b[0m\u001b[34m => [internal] load .dockerignore                                          0.0s\n",
      "\u001b[0m\u001b[34m => => transferring context: 2B                                            0.0s\n",
      "\u001b[0m\u001b[34m => [internal] load metadata for docker.io/library/ubuntu:20.04            2.4s\n",
      "\u001b[0m\u001b[34m => CACHED [1/1] FROM docker.io/library/ubuntu:20.04@sha256:b650347f3d05a  0.0s\n",
      "\u001b[0m\u001b[34m => exporting to image                                                     0.0s\n",
      "\u001b[0m\u001b[34m => => exporting layers                                                    0.0s\n",
      "\u001b[0m\u001b[34m => => writing image sha256:62e65785fcde7c546c5a41dd69a8c1ef4dfe57ab6c7d2  0.0s\n",
      "\u001b[0m\u001b[34m => => naming to docker.io/library/train                                   0.0s\n",
      "\u001b[0m\u001b[?25h\n",
      "Use 'docker scan' to run Snyk tests against images to find vulnerabilities and learn how to fix them\n"
     ]
    }
   ],
   "source": [
    "!docker build -t train /home/kilroy/docker \n",
    "# --progress=quiet"
   ]
  },
  {
   "cell_type": "code",
   "execution_count": 14,
   "id": "cba75141-6cfb-4964-ac14-f05139b6313d",
   "metadata": {},
   "outputs": [
    {
     "name": "stdout",
     "output_type": "stream",
     "text": [
      "\n",
      "The command 'docker' could not be found in this WSL 2 distro.\n",
      "We recommend to activate the WSL integration in Docker Desktop settings.\n",
      "\n",
      "For details about using Docker Desktop with WSL 2, visit:\n",
      "\n",
      "https://docs.docker.com/go/wsl2/\n",
      "\n"
     ]
    }
   ],
   "source": [
    "# use docker image list or equivalently:\n",
    "!docker images"
   ]
  },
  {
   "cell_type": "code",
   "execution_count": null,
   "id": "f4d77327-6c13-457c-982b-8d983e6857a5",
   "metadata": {},
   "outputs": [],
   "source": [
    "# are any docker images running on this machine at the moment?\n",
    "!docker ps"
   ]
  },
  {
   "cell_type": "markdown",
   "id": "464f6faa-9afd-4227-9b8a-38af0156abc9",
   "metadata": {},
   "source": [
    "### Observe\n",
    "\n",
    "\n",
    "The output is `sha256:7a3df4ee0998d0a8ccdd53b56e9063c455b21283c177e38366fa985c379ca96c`... meaning what?\n",
    "Notice the first 12 characters after the `:` corresponds to the `IMAGE ID`.\n",
    "\n",
    "\n",
    "### Key questions\n",
    "\n",
    "\n",
    "- Now that a Docker app -- i.e. an *image* -- called `train` exists: How does the `docker run train` command know where to find that image?\n",
    "- If I run `train` or `hello-world` from this notebook or `bash` I get the expected message **Hello Docker** etc... what if I run `ubuntu`?\n",
    "    - Answer: `ubuntu` does not stick; I'm probably missing some detail. See the list / status in the Docker app\n",
    "\n"
   ]
  },
  {
   "cell_type": "code",
   "execution_count": null,
   "id": "86819a3d-2bc8-4dc3-b626-54c90da8e404",
   "metadata": {},
   "outputs": [],
   "source": [
    "# use --rm to clean up when done; and -it to run interactively\n",
    "!docker run --rm -it train"
   ]
  },
  {
   "cell_type": "code",
   "execution_count": null,
   "id": "3b6a2b53-8607-4c94-8216-26ddcc96ce28",
   "metadata": {},
   "outputs": [],
   "source": [
    "!docker run --rm -it hello-world"
   ]
  },
  {
   "cell_type": "code",
   "execution_count": null,
   "id": "0fbb0294-2f6d-441b-8360-3038b7245c6b",
   "metadata": {},
   "outputs": [],
   "source": [
    "# This command by virtue of -it keeps running. It can be halted from the Docker App\n",
    "# !docker run --rm -it ubuntu"
   ]
  },
  {
   "cell_type": "markdown",
   "id": "cb1c4737-9a0b-4c3e-91df-d8119fc8bed0",
   "metadata": {},
   "source": [
    "### Pivot to from running a container to Docker hub\n",
    "\n",
    "\n",
    "The bash command `docker run ubuntu` is supposed to place us in an Ubuntu `bash` shell but it just starts/halts. \n",
    "\n",
    "\n",
    "`docker pull` will get an existing image from DockerHub, here without then with a tag. No tag: Latest.\n",
    "\n",
    "\n",
    "```\n",
    "docker pull ubuntu\n",
    "docker pull ubuntu:20.04\n",
    "docker pull naclomi/textbook-writer\n",
    "```\n",
    "\n",
    "The `textbook-writer` takes a couple minutes to pull. Once that completes we have..."
   ]
  },
  {
   "cell_type": "code",
   "execution_count": null,
   "id": "123c414f-5fdf-4099-a810-d01a4884d83e",
   "metadata": {},
   "outputs": [],
   "source": [
    "!docker images"
   ]
  },
  {
   "cell_type": "code",
   "execution_count": null,
   "id": "b94cab40-e141-4b51-afda-b24c4ba654e1",
   "metadata": {},
   "outputs": [],
   "source": [
    "!docker run --rm -it naclomi/textbook-writer"
   ]
  },
  {
   "cell_type": "markdown",
   "id": "cc8fa1a3-7a36-4fa9-959b-1f5f9473f80d",
   "metadata": {},
   "source": [
    "### ok great now i should do one too\n",
    "\n",
    "\n",
    "This was so encouraging I thought I'd check in at [DockerHub](https://hub.docker.com) and create a repo and push an image.\n",
    "On my development laptop these are the key docker commands: \n",
    "\n",
    "```\n",
    "docker tag local-image:tagname new-repo:tagname\n",
    "docker push new-repo:tagname\n",
    "```\n",
    "\n",
    "\n",
    "My Docker image will be called `calcul8`. To begin as simply as possible my code will take two environment variables\n",
    "a and b and calculate all the primes on [a, b)."
   ]
  },
  {
   "cell_type": "code",
   "execution_count": null,
   "id": "7148883c-f7d7-49dc-822f-b1fa39d2b0a8",
   "metadata": {},
   "outputs": [],
   "source": []
  },
  {
   "cell_type": "code",
   "execution_count": null,
   "id": "0d1cc951-31a3-409c-b424-db89b99cc184",
   "metadata": {},
   "outputs": [],
   "source": []
  },
  {
   "cell_type": "code",
   "execution_count": null,
   "id": "86763339-8113-4ae1-936b-00b9ddb3ee58",
   "metadata": {},
   "outputs": [],
   "source": []
  }
 ],
 "metadata": {
  "kernelspec": {
   "display_name": "Python 3 (ipykernel)",
   "language": "python",
   "name": "python3"
  },
  "language_info": {
   "codemirror_mode": {
    "name": "ipython",
    "version": 3
   },
   "file_extension": ".py",
   "mimetype": "text/x-python",
   "name": "python",
   "nbconvert_exporter": "python",
   "pygments_lexer": "ipython3",
   "version": "3.12.2"
  }
 },
 "nbformat": 4,
 "nbformat_minor": 5
}
