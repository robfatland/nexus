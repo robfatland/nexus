{
 "cells": [
  {
   "cell_type": "markdown",
   "id": "faf61daf-9ad1-44ab-8de4-328563e7b1a0",
   "metadata": {},
   "source": [
    "### Notes from watching dozens of YouTube videos\n",
    "\n",
    "* Docker is a software development platform and a virtualization technology; key concept is hermetic operation, no shock waves into the system at large\n",
    "    * apps can run universally / system agnostic\n",
    "    * Docker communicates \"natively\" (directly) with the system kernel\n",
    "    * Multiple Docker containers running on a single system from a common source image will share files to reduce total footprint\n",
    "* Replicate an environment on any machine: Covers scale and consistency: Run many, anywhere.\n",
    "* VMs can be bulky and slow. Containers only virtualize the OS, not the hardware\n",
    "* Three fundamental elements\n",
    "    - Docker File is like DNA: Code: How to build an image \n",
    "        - Start with `FROM` to \"pull down\" a base image\n",
    "        - Next a `RUN` command to `apt-get install sl` (which is a little text-based train)\n",
    "        - Next a `ENV` command to set `PORT=8080` environment variables used inside the running Container\n",
    "        - Finally a `CMD` default command with `[\"echo\", \"Hello Docker\"]` some command-y sort of run-time task\n",
    "    - Docker Image is an immutable file: A snapshot of software + dependencies all the way down to the OS level: configuration content: Spin up container\n",
    "    - Docker Container is a running-then-halting program\n",
    "    \n",
    "    \n",
    "As we work in the Docker headspace let's be aware that...\n",
    "- a `Dockerfile` lives in a host folder with an appropriate name\n",
    "- a Docker *image* lives for all we know on the planet Neptune; it is not *visible* as a normal file is... so this is being managed behind the scenes\n",
    "- the `docker` command is the **command line interface** that interfaces with the **docker daemon** that in turn manages the local docker landscape\n",
    "- all of this is put into place when we install Docker Desktop (an app)"
   ]
  },
  {
   "cell_type": "code",
   "execution_count": 57,
   "id": "91bb978c-df84-4b21-9ddc-d862029f4ff4",
   "metadata": {
    "tags": []
   },
   "outputs": [
    {
     "name": "stdout",
     "output_type": "stream",
     "text": [
      "FROM ubuntu:20.04\n",
      "\n",
      "USER root\n",
      "\n",
      "RUN apt-get install -V sl\n",
      "\n",
      "ENV PORT=8080\n",
      "\n",
      "CMD [\"echo\", \"Hello Docker\"]\n",
      "\n",
      "\n"
     ]
    }
   ],
   "source": [
    "# Let's build a Dockerfile using Python\n",
    "\n",
    "def WriteDockerFile(s, f):\n",
    "    with open(f, \"w\") as file: file.write(s)\n",
    "\n",
    "\n",
    "def AddFROM(s, os):\n",
    "    s += 'FROM ' + os + '\\n\\n'\n",
    "    return s\n",
    "\n",
    "    \n",
    "def AddUSER(s, who):\n",
    "    s += 'USER ' + who + '\\n\\n'\n",
    "    return s\n",
    "\n",
    "def AddRUN(s, pkgs):\n",
    "    for r in pkgs:\n",
    "        s += 'RUN ' + r[0] + ' ' + r[1] + '\\n'\n",
    "    s += '\\n'\n",
    "    return s\n",
    "\n",
    "def AddENV(s, envs):\n",
    "    for e in envs:\n",
    "        s += 'ENV ' + e[0] + '=' + e[1] + '\\n'\n",
    "    s += '\\n'\n",
    "    return s\n",
    "\n",
    "def AddCMD(s, cmd):\n",
    "    s += 'CMD [\"' + cmd[0] + '\", \"' + cmd[1] + '\"]'\n",
    "    s += '\\n\\n'\n",
    "    return s\n",
    "\n",
    "\n",
    "d = ''\n",
    "d = AddFROM(d, 'ubuntu:20.04')\n",
    "d = AddUSER(d, 'root')\n",
    "d = AddRUN(d, [['apt-get install -V', 'sl']])         # '-y curl' is a common install\n",
    "d = AddENV(d, [['PORT', '8080']])\n",
    "d = AddCMD(d, ['echo', 'Hello Docker'])\n",
    "\n",
    "print(d)\n",
    "\n",
    "WriteDockerFile(d, \"/home/rob/docker/Dockerfile\")"
   ]
  },
  {
   "cell_type": "markdown",
   "id": "3f488419-9917-4b6f-aa6b-4cd9203fa566",
   "metadata": {},
   "source": [
    "### Cautionary remark\n",
    "\n",
    "\n",
    "For the next cell to run: I must start Docker Desktop on my PC; which makes the `docker` command available in WSL2."
   ]
  },
  {
   "cell_type": "code",
   "execution_count": 58,
   "id": "1716c9d7-3fea-4cfc-a70d-2eeac385166f",
   "metadata": {
    "tags": []
   },
   "outputs": [
    {
     "name": "stdout",
     "output_type": "stream",
     "text": [
      "\u001b[1A\u001b[1B\u001b[0G\u001b[?25l[+] Building 0.0s (0/1)                                          docker:default\n",
      "\u001b[?25h\u001b[1A\u001b[0G\u001b[?25l[+] Building 0.2s (2/3)                                          docker:default\n",
      "\u001b[34m => [internal] load build definition from Dockerfile                       0.0s\n",
      "\u001b[0m\u001b[34m => => transferring dockerfile: 139B                                       0.0s\n",
      "\u001b[0m\u001b[34m => [internal] load .dockerignore                                          0.0s\n",
      "\u001b[0m\u001b[34m => => transferring context: 2B                                            0.0s\n",
      "\u001b[0m => [internal] load metadata for docker.io/library/ubuntu:20.04            0.1s\n",
      "\u001b[?25h\u001b[1A\u001b[1A\u001b[1A\u001b[1A\u001b[1A\u001b[1A\u001b[0G\u001b[?25l[+] Building 0.3s (2/3)                                          docker:default\n",
      "\u001b[34m => [internal] load build definition from Dockerfile                       0.0s\n",
      "\u001b[0m\u001b[34m => => transferring dockerfile: 139B                                       0.0s\n",
      "\u001b[0m\u001b[34m => [internal] load .dockerignore                                          0.0s\n",
      "\u001b[0m\u001b[34m => => transferring context: 2B                                            0.0s\n",
      "\u001b[0m => [internal] load metadata for docker.io/library/ubuntu:20.04            0.3s\n",
      "\u001b[?25h\u001b[1A\u001b[1A\u001b[1A\u001b[1A\u001b[1A\u001b[1A\u001b[0G\u001b[?25l[+] Building 0.5s (2/3)                                          docker:default\n",
      "\u001b[34m => [internal] load build definition from Dockerfile                       0.0s\n",
      "\u001b[0m\u001b[34m => => transferring dockerfile: 139B                                       0.0s\n",
      "\u001b[0m\u001b[34m => [internal] load .dockerignore                                          0.0s\n",
      "\u001b[0m\u001b[34m => => transferring context: 2B                                            0.0s\n",
      "\u001b[0m => [internal] load metadata for docker.io/library/ubuntu:20.04            0.4s\n",
      "\u001b[?25h\u001b[1A\u001b[1A\u001b[1A\u001b[1A\u001b[1A\u001b[1A\u001b[0G\u001b[?25l[+] Building 0.6s (2/3)                                          docker:default\n",
      "\u001b[34m => [internal] load build definition from Dockerfile                       0.0s\n",
      "\u001b[0m\u001b[34m => => transferring dockerfile: 139B                                       0.0s\n",
      "\u001b[0m\u001b[34m => [internal] load .dockerignore                                          0.0s\n",
      "\u001b[0m\u001b[34m => => transferring context: 2B                                            0.0s\n",
      "\u001b[0m => [internal] load metadata for docker.io/library/ubuntu:20.04            0.6s\n",
      "\u001b[?25h\u001b[1A\u001b[1A\u001b[1A\u001b[1A\u001b[1A\u001b[1A\u001b[0G\u001b[?25l[+] Building 0.8s (2/3)                                          docker:default\n",
      "\u001b[34m => [internal] load build definition from Dockerfile                       0.0s\n",
      "\u001b[0m\u001b[34m => => transferring dockerfile: 139B                                       0.0s\n",
      "\u001b[0m\u001b[34m => [internal] load .dockerignore                                          0.0s\n",
      "\u001b[0m\u001b[34m => => transferring context: 2B                                            0.0s\n",
      "\u001b[0m => [internal] load metadata for docker.io/library/ubuntu:20.04            0.7s\n",
      "\u001b[?25h\u001b[1A\u001b[1A\u001b[1A\u001b[1A\u001b[1A\u001b[1A\u001b[0G\u001b[?25l[+] Building 0.9s (2/3)                                          docker:default\n",
      "\u001b[34m => [internal] load build definition from Dockerfile                       0.0s\n",
      "\u001b[0m\u001b[34m => => transferring dockerfile: 139B                                       0.0s\n",
      "\u001b[0m\u001b[34m => [internal] load .dockerignore                                          0.0s\n",
      "\u001b[0m\u001b[34m => => transferring context: 2B                                            0.0s\n",
      "\u001b[0m => [internal] load metadata for docker.io/library/ubuntu:20.04            0.9s\n",
      "\u001b[?25h\u001b[1A\u001b[1A\u001b[1A\u001b[1A\u001b[1A\u001b[1A\u001b[0G\u001b[?25l[+] Building 1.1s (2/3)                                          docker:default\n",
      "\u001b[34m => [internal] load build definition from Dockerfile                       0.0s\n",
      "\u001b[0m\u001b[34m => => transferring dockerfile: 139B                                       0.0s\n",
      "\u001b[0m\u001b[34m => [internal] load .dockerignore                                          0.0s\n",
      "\u001b[0m\u001b[34m => => transferring context: 2B                                            0.0s\n",
      "\u001b[0m => [internal] load metadata for docker.io/library/ubuntu:20.04            1.0s\n",
      "\u001b[?25h\u001b[1A\u001b[1A\u001b[1A\u001b[1A\u001b[1A\u001b[1A\u001b[0G\u001b[?25l[+] Building 1.2s (4/5)                                          docker:default\n",
      "\u001b[34m => [internal] load build definition from Dockerfile                       0.0s\n",
      "\u001b[0m\u001b[34m => => transferring dockerfile: 139B                                       0.0s\n",
      "\u001b[0m\u001b[34m => [internal] load .dockerignore                                          0.0s\n",
      "\u001b[0m\u001b[34m => => transferring context: 2B                                            0.0s\n",
      "\u001b[0m\u001b[34m => [internal] load metadata for docker.io/library/ubuntu:20.04            1.0s\n",
      "\u001b[0m\u001b[34m => CACHED [1/2] FROM docker.io/library/ubuntu:20.04@sha256:8e5c4f0285ecb  0.0s\n",
      "\u001b[0m => [2/2] RUN apt-get install -V sl                                        0.1s\n",
      "\u001b[?25h\u001b[1A\u001b[1A\u001b[1A\u001b[1A\u001b[1A\u001b[1A\u001b[1A\u001b[1A\u001b[0G\u001b[?25l[+] Building 1.3s (5/5) FINISHED                                 docker:default\n",
      "\u001b[34m => [internal] load build definition from Dockerfile                       0.0s\n",
      "\u001b[0m\u001b[34m => => transferring dockerfile: 139B                                       0.0s\n",
      "\u001b[0m\u001b[34m => [internal] load .dockerignore                                          0.0s\n",
      "\u001b[0m\u001b[34m => => transferring context: 2B                                            0.0s\n",
      "\u001b[0m\u001b[34m => [internal] load metadata for docker.io/library/ubuntu:20.04            1.0s\n",
      "\u001b[0m\u001b[34m => CACHED [1/2] FROM docker.io/library/ubuntu:20.04@sha256:8e5c4f0285ecb  0.0s\n",
      "\u001b[0m\u001b[31m => ERROR [2/2] RUN apt-get install -V sl                                  0.2s\n",
      "\u001b[0m\u001b[?25h------\n",
      " > [2/2] RUN apt-get install -V sl:\n",
      "0.185 Reading package lists...\n",
      "0.191 Building dependency tree...\n",
      "0.191 Reading state information...\n",
      "0.191 E: Unable to locate package sl\n",
      "------\n",
      "Dockerfile:5\n",
      "--------------------\n",
      "   3 |     USER root\n",
      "   4 |     \n",
      "   5 | >>> RUN apt-get install -V sl\n",
      "   6 |     \n",
      "   7 |     ENV PORT=8080\n",
      "--------------------\n",
      "ERROR: failed to solve: process \"/bin/sh -c apt-get install -V sl\" did not complete successfully: exit code: 100\n"
     ]
    }
   ],
   "source": [
    "!docker build -t train /home/rob/docker \n",
    "# --progress=quiet"
   ]
  },
  {
   "cell_type": "code",
   "execution_count": 28,
   "id": "f820d091-ac3e-4466-971b-4cf6d9963863",
   "metadata": {
    "tags": []
   },
   "outputs": [
    {
     "name": "stdout",
     "output_type": "stream",
     "text": [
      "REPOSITORY    TAG       IMAGE ID       CREATED         SIZE\n",
      "train         latest    7a3df4ee0998   5 months ago    72.8MB\n",
      "ubuntu        latest    fd1d8f58e8ae   14 months ago   77.9MB\n",
      "hello-world   latest    d2c94e258dcb   23 months ago   13.3kB\n"
     ]
    }
   ],
   "source": [
    "# use docker image list or equivalently:\n",
    "!docker images"
   ]
  },
  {
   "cell_type": "markdown",
   "id": "4c4f01cc-d630-40da-b205-20230cc4e6ac",
   "metadata": {},
   "source": [
    "### Observe\n",
    "\n",
    "\n",
    "The output is `sha256:7a3df4ee0998d0a8ccdd53b56e9063c455b21283c177e38366fa985c379ca96c`... meaning what?\n",
    "Notice the first 12 characters after the `:` corresponds to the `IMAGE ID`.\n",
    "\n",
    "\n",
    "### Key questions\n",
    "\n",
    "\n",
    "- Now that a Docker app -- i.e. an *image* -- called `train` exists: How does the `docker run train` command know where to find that image?\n",
    "- If I run `train` or `hello-world` from this notebook or `bash` I get the expected message **Hello Docker** etc... what if I run `ubuntu`?\n",
    "    - Answer: `ubuntu` does not stick; I'm probably missing some detail. See the list / status in the Docker app\n",
    "\n"
   ]
  },
  {
   "cell_type": "code",
   "execution_count": 37,
   "id": "3800898b-f484-4771-8f18-8a84e384de9e",
   "metadata": {
    "tags": []
   },
   "outputs": [
    {
     "name": "stdout",
     "output_type": "stream",
     "text": [
      "Hello Docker\n"
     ]
    }
   ],
   "source": [
    "# use --rm to clean up when done; and -it to run interactively\n",
    "!docker run --rm -it train"
   ]
  },
  {
   "cell_type": "code",
   "execution_count": 39,
   "id": "2822a208-faf1-41e0-bfda-3681f0ea0545",
   "metadata": {
    "tags": []
   },
   "outputs": [
    {
     "name": "stdout",
     "output_type": "stream",
     "text": [
      "\n",
      "Hello from Docker!\n",
      "This message shows that your installation appears to be working correctly.\n",
      "\n",
      "To generate this message, Docker took the following steps:\n",
      " 1. The Docker client contacted the Docker daemon.\n",
      " 2. The Docker daemon pulled the \"hello-world\" image from the Docker Hub.\n",
      "    (amd64)\n",
      " 3. The Docker daemon created a new container from that image which runs the\n",
      "    executable that produces the output you are currently reading.\n",
      " 4. The Docker daemon streamed that output to the Docker client, which sent it\n",
      "    to your terminal.\n",
      "\n",
      "To try something more ambitious, you can run an Ubuntu container with:\n",
      " $ docker run -it ubuntu bash\n",
      "\n",
      "Share images, automate workflows, and more with a free Docker ID:\n",
      " https://hub.docker.com/\n",
      "\n",
      "For more examples and ideas, visit:\n",
      " https://docs.docker.com/get-started/\n",
      "\n"
     ]
    }
   ],
   "source": [
    "!docker run --rm -it hello-world"
   ]
  },
  {
   "cell_type": "code",
   "execution_count": 41,
   "id": "46ab5954-1d85-40b4-856f-f324af3a3773",
   "metadata": {
    "tags": []
   },
   "outputs": [],
   "source": [
    "# This command by virtue of -it keeps running. It can be halted from the Docker App\n",
    "# !docker run --rm -it ubuntu"
   ]
  },
  {
   "cell_type": "markdown",
   "id": "5086d469-3324-4ba3-97d3-bf75ada29dfc",
   "metadata": {
    "tags": []
   },
   "source": [
    "### Pivot to from running a container to Docker hub\n",
    "\n",
    "\n",
    "The bash command `docker run ubuntu` is supposed to place us in an Ubuntu `bash` shell but it just starts/halts. \n",
    "\n",
    "\n",
    "`docker pull` will get an existing image from DockerHub, here without then with a tag. No tag: Latest.\n",
    "\n",
    "\n",
    "```\n",
    "docker pull ubuntu\n",
    "docker pull ubuntu:20.04\n",
    "docker pull naclomi/textbook-writer\n",
    "```"
   ]
  },
  {
   "cell_type": "markdown",
   "id": "ff1147d4-526a-463e-96d4-3f90f3157c56",
   "metadata": {
    "tags": []
   },
   "source": [
    "The `textbook-writer` takes a couple minutes to pull. Once that completes we have..."
   ]
  },
  {
   "cell_type": "code",
   "execution_count": 42,
   "id": "2a7d5249-2763-4c01-bb0a-228ad17de8af",
   "metadata": {
    "tags": []
   },
   "outputs": [
    {
     "name": "stdout",
     "output_type": "stream",
     "text": [
      "REPOSITORY                TAG       IMAGE ID       CREATED         SIZE\n",
      "train                     latest    7a3df4ee0998   5 months ago    72.8MB\n",
      "ubuntu                    latest    fd1d8f58e8ae   14 months ago   77.9MB\n",
      "hello-world               latest    d2c94e258dcb   23 months ago   13.3kB\n",
      "naclomi/textbook-writer   latest    a67cdd1dd3da   2 years ago     983MB\n"
     ]
    }
   ],
   "source": [
    "!docker images"
   ]
  },
  {
   "cell_type": "markdown",
   "id": "25137908-b1dc-4487-b013-5955ef62b7d5",
   "metadata": {},
   "source": [
    "...so of course we can try running it."
   ]
  },
  {
   "cell_type": "code",
   "execution_count": 43,
   "id": "fa4ed3de-9dd8-4fd0-bb31-22a38f2e2551",
   "metadata": {
    "tags": []
   },
   "outputs": [
    {
     "name": "stdout",
     "output_type": "stream",
     "text": [
      "Some principal aspects of the material alone, but is also useful in estimating the yield stress of amplitude ∆σ. This gives the curvature of a handbook, the user would pore through reams of numbers generated by the raduis of the total axial force P at the free end at a sufficiently high that motion in the limit as the crack tip reduces the temperature of the stress function to define the stress amplitude is now known as fully reversed loading,  = 10 days, and with properties measured along and transverse to the shear diagram crosses the shear stress τ as shown in Fig. Consider a triply-supported beam of irregular cross section. 16 is the strain axis, drawn with a screw dislocation. Also note that these properties vary widely for given materials depending on their most closely packed planes, and in directions of minimum atomic separation distance. Since the 6.354 t-statistic for the plane of atoms creates a region of material at the free end of shaft A is rA TA = F · rA = T r/J for twisted circular shaft. Show that the deformation is assumed to be almost vertical. For similar reasons, brittle materials are composed of n freely-jointed links of length a is a dimensionless measure of standard texts2, and will act in directions of maximum shear, so the total strain energy formerly contained in it released.\n"
     ]
    }
   ],
   "source": [
    "!docker run --rm -it naclomi/textbook-writer"
   ]
  },
  {
   "cell_type": "markdown",
   "id": "7842e8fe-f988-4a67-b4bb-cf13b5c6ebc0",
   "metadata": {},
   "source": [
    "### well then i should do one too\n",
    "\n",
    "\n",
    "This was so encouraging I thought I'd check in at [DockerHub](https://hub.docker.com) and create a repo and push an image.\n",
    "On my development laptop these are the key docker commands: \n",
    "\n",
    "```\n",
    "docker tag local-image:tagname new-repo:tagname\n",
    "docker push new-repo:tagname\n",
    "```\n",
    "\n",
    "\n",
    "My Docker image will be called `calcul8`. To begin as simply as possible my code will take two environment variables\n",
    "a and b and calculate all the primes on [a, b)."
   ]
  }
 ],
 "metadata": {
  "kernelspec": {
   "display_name": "Python 3 (ipykernel)",
   "language": "python",
   "name": "python3"
  },
  "language_info": {
   "codemirror_mode": {
    "name": "ipython",
    "version": 3
   },
   "file_extension": ".py",
   "mimetype": "text/x-python",
   "name": "python",
   "nbconvert_exporter": "python",
   "pygments_lexer": "ipython3",
   "version": "3.11.4"
  }
 },
 "nbformat": 4,
 "nbformat_minor": 5
}
