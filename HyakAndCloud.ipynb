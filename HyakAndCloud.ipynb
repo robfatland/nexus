{
 "cells": [
  {
   "cell_type": "markdown",
   "id": "1417e44c-e896-40e5-865e-f32753281acc",
   "metadata": {},
   "source": [
    "    - miniforge\n",
    "        - `at loop_array_123456789_0.out\n",
    " \n",
    "source \"${HOME}/mi`r    - [VS Code via ProxyJump]( conda directory as necessary\n",
    " \n",
    "https://hyak.uw.edu/docs/to)nda activation environment_name\n",
    " "
   ]
  },
  {
   "cell_type": "markdown",
   "id": "b8a51551-3d0c-4992-9e05-f6ec3f8d8d13",
   "metadata": {},
   "source": [
    "- `watch -n 10 squeue -u` to monitor the Slurm `squeue` on a second terminal\n",
    "- `salloc --account=acct --partition=part --cpus-per-task=1 --mem=10G --time=2:00:00`\n",
    "    - The Checkpoint global partition is `ckpt-all`\n",
    "    - There is `--gpus=1` as well as `--gpus-per-node=a40:1`\n",
    "- `sinfo -p ckpt-all -O nodehost,cpusstate,freemem,gres,gresused -S nodehost | grep -v null`\n",
    "    - See what GPUs are available\n",
    "- bash script: `time ./loop_script.sh 0 10000000`\n",
    "- slurm script: `sbatch loop_job.slurm` or for an array `sbatch loop_array.slurm`\n",
    "- job output: `cd log; cat job_jobnumber_index.out`\n",
    "- miniforge: `source \"${HOME}/miniforge3/etc/profile.d/conda.sh\"`\n",
    "- [VSCode via ProxyJump](https://hyak.uw.edu/docs/tools/vsc-proxy-jump#configure-ssh)\n",
    "- activate a conda environment within a Slurm script\n",
    "    - `eval \"$(conda shell.bash hook)\"`\n",
    "    - `conda activate env_name`\n",
    "    "
   ]
  },
  {
   "cell_type": "markdown",
   "id": "0f64ba54-4d15-4a68-9883-601bcdf3a433",
   "metadata": {},
   "source": [
    "## Burst conversation 05-DEC-2024\n",
    "\n",
    "\n",
    "Attending\n",
    "\n",
    "\n",
    "- Kristen Finch UW IT RC\n",
    "- Xiao Zhu UW IT RC\n",
    "- David Sinn UW IT network specialist\n",
    "- Rob Fatland UW IT / eScience\n",
    "- Adam (?) AWS SA and network specialist \n",
    "- Scott Friedman AWS SA supporting the bursting project\n",
    "- Jeff Williams AWS PM\n",
    "\n",
    "\n",
    "### Review of bursting\n",
    "\n",
    "\n",
    "Person submits a job to a Scheduler (Slurm) which decides where to run them on a cluster. \n",
    "Bursting points at a queue where jobs are submitted that will run in the cloud. The VMs\n",
    "are provisioned on demand. This builds the node from an AMI to look like an on prem node. \n",
    "\n",
    "\n",
    "Job runs\n",
    "\n",
    "\n",
    "We have courtesy of Scott an open-source Python plug in that interprets the Slurm directives \n",
    "of the User into AWS activity to accomplish the burst. \n",
    "\n",
    "\n",
    "\"People are injecting a step on their on prem to generate an AMI every time an on prem\n",
    "image is generated.\"\n",
    "\n",
    "\n",
    "Internet access: Usually there is a NAT Gateway with corresponding features on AWS.\n",
    "\n",
    "\n",
    "This is open science so the main concern is preventing undesirable activity interfering\n",
    "with the processing tasks. \n",
    "\n",
    "\n",
    "### Network solution discussion\n",
    "\n",
    "\n",
    "**David Sinn**: PNWGigapop is 80% of David's job. UW is an ISP. We are working towards an\n",
    "AWS partnerships: Then could vend DirectConnect connections. Fastest now is IPSEC tunnels \n",
    "to get to a target AWS VPC. Alternative option: DirectConnect ports exist today... some \n",
    "training needed. ...other details I did not readily follow... \"Bay Area option\"...\n",
    "\n",
    "\n",
    "Upshot is there appear to be multiple options; some requiring more or less effort; faster\n",
    "or wait; temporary or long-term. \n",
    "\n",
    "\n",
    "Xiao: Tunnel is fine; we are primarily concerned with a working PoC at this point."
   ]
  },
  {
   "cell_type": "markdown",
   "id": "d1537f35-0f14-4287-a7d3-08fdca19ac24",
   "metadata": {},
   "source": []
  }
 ],
 "metadata": {
  "kernelspec": {
   "display_name": "Python 3 (ipykernel)",
   "language": "python",
   "name": "python3"
  },
  "language_info": {
   "codemirror_mode": {
    "name": "ipython",
    "version": 3
   },
   "file_extension": ".py",
   "mimetype": "text/x-python",
   "name": "python",
   "nbconvert_exporter": "python",
   "pygments_lexer": "ipython3",
   "version": "3.12.3"
  }
 },
 "nbformat": 4,
 "nbformat_minor": 5
}
